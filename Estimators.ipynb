{
 "cells": [
  {
   "cell_type": "code",
   "execution_count": 1,
   "metadata": {},
   "outputs": [],
   "source": [
    "import modelWin_env as modelWin\n",
    "import discrete_MDP_transition_based_rewards as MDP\n",
    "import generate_dataset\n",
    "import numpy as np\n",
    "from estimators import *"
   ]
  },
  {
   "cell_type": "code",
   "execution_count": 12,
   "metadata": {
    "scrolled": true
   },
   "outputs": [
    {
     "name": "stdout",
     "output_type": "stream",
     "text": [
      "-0.28125444079999995\n",
      "-0.4380213758338713\n",
      "0.02188125109999997\n",
      "-0.04880679305197754\n",
      "0.1354181801599999\n",
      "0.03222255559277132\n"
     ]
    }
   ],
   "source": [
    "# Compare results with the R implementation\n",
    "n = 100; horizon = 5; n_columns = 8; n_states = 3; n_actions = 2\n",
    "D = np.genfromtxt('R/data.csv', delimiter=',').reshape((n, horizon, n_columns), order='F')\n",
    "# Need to subtract 1 from the states and actions indices\n",
    "D[:, :, 0] -= 1\n",
    "D[:, :, 1] -= 1\n",
    "Q_hat = np.genfromtxt('R/Q_hat.csv', delimiter=',').reshape((horizon, n_states, n_actions), order='F')\n",
    "V_hat = np.genfromtxt('R/V_hat.csv', delimiter=',')\n",
    "print(IPS(D))\n",
    "print(WIPS(D))\n",
    "print(stepIPS(D))\n",
    "print(stepWIPS(D))\n",
    "print(DR(D, Q_hat, V_hat))\n",
    "print(LTMLE(D, Q_hat, V_hat, modelWin.evaluation_policy_matrix))"
   ]
  },
  {
   "cell_type": "code",
   "execution_count": 12,
   "metadata": {},
   "outputs": [],
   "source": [
    "# Now, try the estimators on an environment\n",
    "# First, instantiate an environmenent\n",
    "s0 = 0\n",
    "env = MDP.discrete_MDP_transition_based_rewards(modelWin.state_transition_matrix,\n",
    "                                                modelWin.transition_based_rewards)\n",
    "env.reset(s0)"
   ]
  },
  {
   "cell_type": "code",
   "execution_count": 13,
   "metadata": {},
   "outputs": [
    {
     "data": {
      "text/plain": [
       "(10000, 5, 6)"
      ]
     },
     "execution_count": 13,
     "metadata": {},
     "output_type": "execute_result"
    }
   ],
   "source": [
    "# Generate some data\n",
    "n = 10000; horizon = 5\n",
    "D = generate_dataset.generate_dataset(env, s0, horizon, n,\n",
    "                                      modelWin.behavior_action_matrix,\n",
    "                                      modelWin.evaluation_policy_matrix)\n",
    "D.shape\n",
    "# columns of D: s, a, r, pi_b, pi_e, rho_t"
   ]
  },
  {
   "cell_type": "code",
   "execution_count": 14,
   "metadata": {
    "scrolled": true
   },
   "outputs": [
    {
     "data": {
      "text/plain": [
       "array([0.276, 0.184, 0.184])"
      ]
     },
     "execution_count": 14,
     "metadata": {},
     "output_type": "execute_result"
    }
   ],
   "source": [
    "# Get the true value of the policy value\n",
    "Q0, V0 = env.get_true_Q_and_V_functions(modelWin.evaluation_policy_matrix, 1, horizon)\n",
    "V0[0,:]"
   ]
  },
  {
   "cell_type": "code",
   "execution_count": 15,
   "metadata": {
    "scrolled": false
   },
   "outputs": [
    {
     "name": "stdout",
     "output_type": "stream",
     "text": [
      "0.288666876295068\n",
      "0.30934108673038707\n",
      "0.29705044158721056\n",
      "0.3161740955037919\n",
      "0.32034237330683163\n",
      "0.3211496515689108\n"
     ]
    }
   ],
   "source": [
    "print(IPS(D))\n",
    "print(stepIPS(D))\n",
    "print(WIPS(D))\n",
    "print(stepWIPS(D))\n",
    "print(DR(D, Q0, V0))\n",
    "print(WDR(D, Q0, V0))"
   ]
  },
  {
   "cell_type": "code",
   "execution_count": null,
   "metadata": {},
   "outputs": [],
   "source": []
  }
 ],
 "metadata": {
  "kernelspec": {
   "display_name": "Python 3",
   "language": "python",
   "name": "python3"
  },
  "language_info": {
   "codemirror_mode": {
    "name": "ipython",
    "version": 3
   },
   "file_extension": ".py",
   "mimetype": "text/x-python",
   "name": "python",
   "nbconvert_exporter": "python",
   "pygments_lexer": "ipython3",
   "version": "3.7.0"
  }
 },
 "nbformat": 4,
 "nbformat_minor": 2
}
