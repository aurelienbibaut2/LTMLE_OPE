{
 "cells": [
  {
   "cell_type": "code",
   "execution_count": 1,
   "metadata": {},
   "outputs": [],
   "source": [
    "import modelWin_env as modelWin\n",
    "import discrete_MDP_transition_based_rewards as MDP\n",
    "import generate_dataset\n",
    "import numpy as np"
   ]
  },
  {
   "cell_type": "code",
   "execution_count": 2,
   "metadata": {},
   "outputs": [],
   "source": [
    "s0 = 0\n",
    "env = MDP.discrete_MDP_transition_based_rewards(modelWin.state_transition_matrix,\n",
    "                                                modelWin.transition_based_rewards)\n",
    "env.reset(s0)"
   ]
  },
  {
   "cell_type": "code",
   "execution_count": 3,
   "metadata": {},
   "outputs": [
    {
     "data": {
      "text/plain": [
       "(10000, 5, 6)"
      ]
     },
     "execution_count": 3,
     "metadata": {},
     "output_type": "execute_result"
    }
   ],
   "source": [
    "n = 10000; horizon = 5\n",
    "D = generate_dataset.generate_dataset(env, s0, horizon, n,\n",
    "                                      modelWin.behavior_action_matrix,\n",
    "                                      modelWin.evaluation_policy_matrix)\n",
    "D.shape\n",
    "# columns of D: s, a, r, pi_b, pi_e, rho_t"
   ]
  },
  {
   "cell_type": "code",
   "execution_count": 4,
   "metadata": {},
   "outputs": [
    {
     "data": {
      "text/plain": [
       "array([0.276, 0.184, 0.184])"
      ]
     },
     "execution_count": 4,
     "metadata": {},
     "output_type": "execute_result"
    }
   ],
   "source": [
    "Q0, V0 = env.get_true_Q_and_V_functions(modelWin.evaluation_policy_matrix, 1, horizon)\n",
    "V0[0,:]"
   ]
  },
  {
   "cell_type": "code",
   "execution_count": 5,
   "metadata": {},
   "outputs": [],
   "source": [
    "def IPS(D):\n",
    "    horizon = D.shape[1]\n",
    "    return np.mean(D[:, horizon-1, 5] * np.sum(D[:, :, 2], axis=1))"
   ]
  },
  {
   "cell_type": "code",
   "execution_count": 6,
   "metadata": {},
   "outputs": [],
   "source": [
    "def stepIPS(D):\n",
    "    return np.mean(np.sum(D[:, :, 5] * D[:, :, 2], axis=1) )"
   ]
  },
  {
   "cell_type": "code",
   "execution_count": 7,
   "metadata": {},
   "outputs": [],
   "source": [
    "def WIPS(D):\n",
    "    horizon = D.shape[1]\n",
    "    w_H = np.mean(D[:, horizon-1, 5])\n",
    "    return np.mean(D[:, horizon-1, 5] / w_H * np.sum(D[:, :, 2], axis=1))"
   ]
  },
  {
   "cell_type": "code",
   "execution_count": 8,
   "metadata": {},
   "outputs": [],
   "source": [
    "def stepWIPS(D):\n",
    "    n = D.shape[0]\n",
    "    horizon = D.shape[1]\n",
    "    w_t = np.mean(D[:, :, 5], axis=0)\n",
    "    return np.mean(np.sum(D[:, :, 5] / (np.ones((n,1)) * w_t.T) * D[:, :, 2], axis=1))"
   ]
  },
  {
   "cell_type": "code",
   "execution_count": 36,
   "metadata": {},
   "outputs": [],
   "source": [
    "def DR(D):\n",
    "    n = D.shape[0]\n",
    "    horizon = D.shape[1]\n",
    "    D_star = np.zeros((n, horizon))\n",
    "\n",
    "    t = horizon-1\n",
    "    D_star[:, t] = D[:, t, 5] * (D[:, t, 2] - Q_hat[t, D[:, t, 0].astype(int), D[:, t, 1].astype(int)])\n",
    "    for t in np.arange(0, horizon-1)[::-1]:\n",
    "        D_star[:, t] = D[:, t, 5] * (D[:, t, 2] + V_hat[t+1, D[:, t+1, 0].astype(int)]\n",
    "                                      - Q_hat[t, D[:, t, 0].astype(int), D[:, t, 1].astype(int)])\n",
    "    return np.mean(V_hat[t, D[:, t, 1].astype(int)] + np.sum(D_star, axis=1))"
   ]
  },
  {
   "cell_type": "code",
   "execution_count": 38,
   "metadata": {},
   "outputs": [],
   "source": [
    "def WDR(D):\n",
    "    n = D.shape[0]\n",
    "    horizon = D.shape[1]\n",
    "    D_star = np.zeros((n, horizon))\n",
    "    w_t = np.mean(D[:, :, 5], axis=0)\n",
    "    \n",
    "    t = horizon-1\n",
    "    D_star[:, t] = D[:, t, 5] / w_t[t] * (D[:, t, 2] - Q_hat[t, D[:, t, 0].astype(int), D[:, t, 1].astype(int)])\n",
    "    for t in np.arange(0, horizon-1)[::-1]:\n",
    "        D_star[:, t] = D[:, t, 5] / w_t[t] * (D[:, t, 2] + V_hat[t+1, D[:, t+1, 0].astype(int)]\n",
    "                                      - Q_hat[t, D[:, t, 0].astype(int), D[:, t, 1].astype(int)])\n",
    "    return np.mean(V_hat[t, D[:, t, 1].astype(int)] + np.sum(D_star, axis=1))"
   ]
  },
  {
   "cell_type": "code",
   "execution_count": 39,
   "metadata": {},
   "outputs": [
    {
     "name": "stdout",
     "output_type": "stream",
     "text": [
      "0.2535354956054595\n",
      "0.2878522817724615\n",
      "0.25345980619991576\n",
      "0.28646929528377246\n",
      "0.26104379853101006\n",
      "0.26109588803976397\n"
     ]
    }
   ],
   "source": [
    "print(IPS(D))\n",
    "print(stepIPS(D))\n",
    "print(WIPS(D))\n",
    "print(stepWIPS(D))\n",
    "print(DR(D))\n",
    "print(WDR(D))"
   ]
  },
  {
   "cell_type": "code",
   "execution_count": null,
   "metadata": {},
   "outputs": [],
   "source": []
  }
 ],
 "metadata": {
  "kernelspec": {
   "display_name": "Python 3",
   "language": "python",
   "name": "python3"
  },
  "language_info": {
   "codemirror_mode": {
    "name": "ipython",
    "version": 3
   },
   "file_extension": ".py",
   "mimetype": "text/x-python",
   "name": "python",
   "nbconvert_exporter": "python",
   "pygments_lexer": "ipython3",
   "version": "3.5.2"
  }
 },
 "nbformat": 4,
 "nbformat_minor": 2
}
