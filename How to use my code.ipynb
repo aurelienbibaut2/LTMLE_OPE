{
 "cells": [
  {
   "cell_type": "code",
   "execution_count": 1,
   "metadata": {},
   "outputs": [],
   "source": [
    "import modelWin_env as modelWin\n",
    "import discrete_MDP_transition_based_rewards as MDP\n",
    "import generate_dataset"
   ]
  },
  {
   "cell_type": "code",
   "execution_count": 2,
   "metadata": {},
   "outputs": [],
   "source": [
    "s0 = 0\n",
    "env = MDP.discrete_MDP_transition_based_rewards(modelWin.state_transition_matrix,\n",
    "                                                modelWin.transition_based_rewards)\n",
    "env.reset(s0)"
   ]
  },
  {
   "cell_type": "code",
   "execution_count": 6,
   "metadata": {},
   "outputs": [
    {
     "data": {
      "text/plain": [
       "(100, 10, 6)"
      ]
     },
     "execution_count": 6,
     "metadata": {},
     "output_type": "execute_result"
    }
   ],
   "source": [
    "n = 100; horizon = 10\n",
    "D = generate_dataset.generate_dataset(env, s0, horizon, n,\n",
    "                                      modelWin.behavior_action_matrix,\n",
    "                                      modelWin.evaluation_policy_matrix)\n",
    "D.shape"
   ]
  },
  {
   "cell_type": "code",
   "execution_count": 7,
   "metadata": {},
   "outputs": [
    {
     "data": {
      "text/plain": [
       "array([[ 0.        ,  0.        ,  1.        ,  0.73      ,  0.27      ,\n",
       "         0.36986301],\n",
       "       [ 1.        ,  1.        ,  0.        ,  0.5       ,  0.5       ,\n",
       "         0.36986301],\n",
       "       [ 0.        ,  0.        ,  1.        ,  0.73      ,  0.27      ,\n",
       "         0.13679865],\n",
       "       [ 1.        ,  1.        ,  0.        ,  0.5       ,  0.5       ,\n",
       "         0.13679865],\n",
       "       [ 0.        ,  0.        , -1.        ,  0.73      ,  0.27      ,\n",
       "         0.05059676],\n",
       "       [ 2.        ,  1.        ,  0.        ,  0.5       ,  0.5       ,\n",
       "         0.05059676],\n",
       "       [ 0.        ,  0.        ,  1.        ,  0.73      ,  0.27      ,\n",
       "         0.01871387],\n",
       "       [ 1.        ,  0.        ,  0.        ,  0.5       ,  0.5       ,\n",
       "         0.01871387],\n",
       "       [ 0.        ,  1.        , -1.        ,  0.27      ,  0.73      ,\n",
       "         0.05059676],\n",
       "       [ 2.        ,  0.        ,  0.        ,  0.5       ,  0.5       ,\n",
       "         0.05059676]])"
      ]
     },
     "execution_count": 7,
     "metadata": {},
     "output_type": "execute_result"
    }
   ],
   "source": [
    "D[0,:,:]"
   ]
  },
  {
   "cell_type": "code",
   "execution_count": null,
   "metadata": {},
   "outputs": [],
   "source": []
  }
 ],
 "metadata": {
  "kernelspec": {
   "display_name": "Python 3",
   "language": "python",
   "name": "python3"
  },
  "language_info": {
   "codemirror_mode": {
    "name": "ipython",
    "version": 3
   },
   "file_extension": ".py",
   "mimetype": "text/x-python",
   "name": "python",
   "nbconvert_exporter": "python",
   "pygments_lexer": "ipython3",
   "version": "3.5.2"
  }
 },
 "nbformat": 4,
 "nbformat_minor": 2
}
