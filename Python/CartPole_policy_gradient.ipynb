{
 "cells": [
  {
   "cell_type": "code",
   "execution_count": 4,
   "metadata": {},
   "outputs": [],
   "source": [
    "import gym\n",
    "import numpy as np\n",
    "\n",
    "from keras import layers\n",
    "from keras.models import Model\n",
    "from keras import backend as K\n",
    "from keras import utils as np_utils\n",
    "from keras import optimizers"
   ]
  },
  {
   "cell_type": "code",
   "execution_count": 5,
   "metadata": {},
   "outputs": [],
   "source": [
    "env = gym.make('CartPole-v0')"
   ]
  },
  {
   "cell_type": "code",
   "execution_count": 6,
   "metadata": {},
   "outputs": [],
   "source": [
    "inputs = layers.Input(shape=(4,))\n",
    "net = inputs\n",
    "for i in range(2):\n",
    "    net = layers.Dense(32)(net)\n",
    "    net = layers.Activation(\"relu\")(net)\n",
    "net = layers.Dense(2)(net)\n",
    "net = layers.Activation(\"softmax\")(net)"
   ]
  },
  {
   "cell_type": "code",
   "execution_count": 7,
   "metadata": {},
   "outputs": [],
   "source": [
    "model = Model(inputs=inputs, outputs=net)"
   ]
  },
  {
   "cell_type": "code",
   "execution_count": 8,
   "metadata": {},
   "outputs": [],
   "source": [
    "action_prob_ph = model.output\n",
    "action_onehot_ph = K.placeholder(shape=(None, 2))\n",
    "rtg_ph = K.placeholder(shape=(None,))"
   ]
  },
  {
   "cell_type": "code",
   "execution_count": 9,
   "metadata": {},
   "outputs": [],
   "source": [
    "loss = -K.mean(K.log(K.sum(action_prob_ph * action_onehot_ph, axis=1)) * rtg_ph)"
   ]
  },
  {
   "cell_type": "code",
   "execution_count": 11,
   "metadata": {},
   "outputs": [],
   "source": [
    "adam = optimizers.Adam()\n",
    "updates = adam.get_updates(params=model.trainable_weights,\n",
    "                           loss=loss)"
   ]
  },
  {
   "cell_type": "code",
   "execution_count": 12,
   "metadata": {},
   "outputs": [],
   "source": [
    "train_fn = K.function(inputs=[model.input,\n",
    "                              action_onehot_ph,\n",
    "                              rtg_ph],\n",
    "                      outputs=[],\n",
    "                      updates=updates)"
   ]
  },
  {
   "cell_type": "code",
   "execution_count": 13,
   "metadata": {},
   "outputs": [],
   "source": [
    "def generate_trajectory(model):\n",
    "    done=False\n",
    "    \n",
    "    states = []; actions = []; rewards = []\n",
    "    \n",
    "    s=env.reset()\n",
    "    \n",
    "    while not done:\n",
    "        a = np.random.choice(np.arange(2), \n",
    "                 p=np.squeeze(model.predict(np.array(s)[np.newaxis,:])))\n",
    "        \n",
    "        s2, r, done, _ = env.step(a)\n",
    "        \n",
    "        states.append(s)\n",
    "        actions.append(a)\n",
    "        rewards.append(r)\n",
    "        \n",
    "        s = s2\n",
    "        \n",
    "    rtg = np.cumsum(rewards[::-1])[::-1]\n",
    "    return np.array(states), np_utils.to_categorical(actions, num_classes=2), rtg"
   ]
  },
  {
   "cell_type": "code",
   "execution_count": 15,
   "metadata": {},
   "outputs": [
    {
     "name": "stdout",
     "output_type": "stream",
     "text": [
      "20.0\n",
      "34.1\n",
      "38.8\n",
      "37.8\n",
      "43.1\n",
      "62.6\n",
      "42.0\n",
      "55.0\n",
      "42.5\n",
      "69.4\n",
      "94.1\n"
     ]
    }
   ],
   "source": [
    "stored_rtgs = []\n",
    "model_40_saved = False; model_80_saved = False\n",
    "for i in range(10000):\n",
    "    states, actions, rtg = generate_trajectory(model)\n",
    "    stored_rtgs.append(rtg[0])\n",
    "    if i % 10 == 0:\n",
    "        print(np.mean(stored_rtgs))\n",
    "        \n",
    "        if np.mean(stored_rtgs) > 40 and not model_40_saved:\n",
    "            model.save('/tmp/model_40_policy.h5')\n",
    "            model_40_saved = True\n",
    "        if np.mean(stored_rtgs) > 80 and not model_80_saved:\n",
    "            model.save('/tmp/model_80_policy.h5')\n",
    "            model_80_saved = True\n",
    "            break\n",
    "        stored_rtgs = []\n",
    "    train_fn([states, actions, rtg])"
   ]
  },
  {
   "cell_type": "code",
   "execution_count": 16,
   "metadata": {},
   "outputs": [
    {
     "data": {
      "text/plain": [
       "<tf.Tensor 'activation_3/Softmax:0' shape=(?, 2) dtype=float32>"
      ]
     },
     "execution_count": 16,
     "metadata": {},
     "output_type": "execute_result"
    }
   ],
   "source": [
    "action_prob_ph"
   ]
  },
  {
   "cell_type": "code",
   "execution_count": null,
   "metadata": {},
   "outputs": [],
   "source": [
    "actions.shape"
   ]
  },
  {
   "cell_type": "code",
   "execution_count": null,
   "metadata": {},
   "outputs": [],
   "source": [
    "rtg.shape"
   ]
  },
  {
   "cell_type": "code",
   "execution_count": null,
   "metadata": {},
   "outputs": [],
   "source": []
  }
 ],
 "metadata": {
  "kernelspec": {
   "display_name": "Python3tf",
   "language": "python",
   "name": "testenv"
  },
  "language_info": {
   "codemirror_mode": {
    "name": "ipython",
    "version": 3
   },
   "file_extension": ".py",
   "mimetype": "text/x-python",
   "name": "python",
   "nbconvert_exporter": "python",
   "pygments_lexer": "ipython3",
   "version": "3.5.2"
  }
 },
 "nbformat": 4,
 "nbformat_minor": 2
}
